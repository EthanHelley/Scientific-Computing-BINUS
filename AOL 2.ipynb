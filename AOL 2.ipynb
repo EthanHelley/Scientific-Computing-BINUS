{
  "nbformat": 4,
  "nbformat_minor": 0,
  "metadata": {
    "colab": {
      "provenance": [],
      "authorship_tag": "ABX9TyN3xLYaUcWqwoKF+1pgsaGO",
      "include_colab_link": true
    },
    "kernelspec": {
      "name": "python3",
      "display_name": "Python 3"
    },
    "language_info": {
      "name": "python"
    }
  },
  "cells": [
    {
      "cell_type": "markdown",
      "metadata": {
        "id": "view-in-github",
        "colab_type": "text"
      },
      "source": [
        "<a href=\"https://colab.research.google.com/github/EthanHelley/Scientific-Computing-BINUS/blob/main/AOL%202.ipynb\" target=\"_parent\"><img src=\"https://colab.research.google.com/assets/colab-badge.svg\" alt=\"Open In Colab\"/></a>"
      ]
    },
    {
      "cell_type": "markdown",
      "source": [
        "# **SIN X , x=pi/2**"
      ],
      "metadata": {
        "id": "hxihst_V0dn1"
      }
    },
    {
      "cell_type": "code",
      "source": [
        "import math\n",
        "\n",
        "def factorial(n):\n",
        "    if n == 0:\n",
        "        return 1\n",
        "    else:\n",
        "        return n * factorial(n-1)\n",
        "\n",
        "def taylor_sin(x):\n",
        "    result = 0\n",
        "    for n in range(0, 5):\n",
        "        sign = (-1) ** n\n",
        "        term = (x ** (2 * n + 1)) / factorial(2 * n + 1)\n",
        "        result += sign * term\n",
        "    return result\n",
        "\n",
        "x = math.pi / 2\n",
        "approximation = taylor_sin(x)\n",
        "actual_value = math.sin(x)\n",
        "print(\"SIN X=PI/2\" )\n",
        "print(\"Approximation:\", approximation)\n",
        "print(\"Actual value:\", actual_value)\n",
        "print(\"Error:\", abs(approximation - actual_value))"
      ],
      "metadata": {
        "colab": {
          "base_uri": "https://localhost:8080/"
        },
        "id": "rSC8iGfnxidT",
        "outputId": "efc87d1d-c1fc-4e61-b136-d1b05ca5c0d4"
      },
      "execution_count": 20,
      "outputs": [
        {
          "output_type": "stream",
          "name": "stdout",
          "text": [
            "Approximation: 1.0000035425842861\n",
            "Actual value: 1.0\n",
            "Error: 3.542584286142514e-06\n"
          ]
        }
      ]
    },
    {
      "cell_type": "markdown",
      "source": [
        "# **COS x, x=pi/2**"
      ],
      "metadata": {
        "id": "1m--ToZx0g8x"
      }
    },
    {
      "cell_type": "code",
      "source": [
        "\n",
        "import math\n",
        "\n",
        "def factorial(n):\n",
        "    if n == 0:\n",
        "        return 1\n",
        "    else:\n",
        "        return n * factorial(n-1)\n",
        "\n",
        "def taylor_cos(x):\n",
        "    result = 0\n",
        "    for n in range(0, 5):\n",
        "        sign = (-1) ** n\n",
        "        term = (x ** (2 * n)) / factorial(2 * n)\n",
        "        result += sign * term\n",
        "    return result\n",
        "\n",
        "x = math.pi / 2\n",
        "approximation = taylor_cos(x)\n",
        "actual_value = math.cos(x)\n",
        "print(\"COS X=PI/2\" )\n",
        "print(\"Approximation:\", approximation)\n",
        "print(\"Actual value:\", actual_value)\n",
        "print(\"Error:\", abs(approximation - actual_value))"
      ],
      "metadata": {
        "colab": {
          "base_uri": "https://localhost:8080/"
        },
        "id": "PRYoFkzuxwVW",
        "outputId": "282e99cf-5f13-4987-ea1d-26ba74260333"
      },
      "execution_count": 21,
      "outputs": [
        {
          "output_type": "stream",
          "name": "stdout",
          "text": [
            "Approximation: 2.473727636469452e-05\n",
            "Actual value: 6.123233995736766e-17\n",
            "Error: 2.4737276364633286e-05\n"
          ]
        }
      ]
    },
    {
      "cell_type": "markdown",
      "source": [
        "# **SIN X , x=pi/4**"
      ],
      "metadata": {
        "id": "6ofLrh8G1Zxa"
      }
    },
    {
      "cell_type": "code",
      "source": [
        "import math\n",
        "\n",
        "def factorial(n):\n",
        "    if n == 0:\n",
        "        return 1\n",
        "    else:\n",
        "        return n * factorial(n-1)\n",
        "\n",
        "def taylor_sin(x):\n",
        "    result = 0\n",
        "    for n in range(0, 5):\n",
        "        sign = (-1) ** n\n",
        "        term = (x ** (2 * n + 1)) / factorial(2 * n + 1)\n",
        "        result += sign * term\n",
        "    return result\n",
        "\n",
        "x = math.pi / 4\n",
        "approximation = taylor_sin(x)\n",
        "actual_value = math.sin(x)\n",
        "print(\"SIN X=PI/4\" )\n",
        "print(\"Approximation:\", approximation)\n",
        "print(\"Actual value:\", actual_value)\n",
        "print(\"Error:\", abs(approximation - actual_value))"
      ],
      "metadata": {
        "colab": {
          "base_uri": "https://localhost:8080/"
        },
        "id": "y3nIr6Hu1jDL",
        "outputId": "0a332cfe-3a20-4f7e-b6a7-658a8468d974"
      },
      "execution_count": 22,
      "outputs": [
        {
          "output_type": "stream",
          "name": "stdout",
          "text": [
            "SIN X\n",
            "Approximation: 0.7071067829368671\n",
            "Actual value: 0.7071067811865475\n",
            "Error: 1.7503196669821364e-09\n"
          ]
        }
      ]
    },
    {
      "cell_type": "markdown",
      "source": [
        "# **COS X, x=pi/4**"
      ],
      "metadata": {
        "id": "tcQvfacr1qVX"
      }
    },
    {
      "cell_type": "code",
      "source": [
        "\n",
        "import math\n",
        "\n",
        "def factorial(n):\n",
        "    if n == 0:\n",
        "        return 1\n",
        "    else:\n",
        "        return n * factorial(n-1)\n",
        "\n",
        "def taylor_cos(x):\n",
        "    result = 0\n",
        "    for n in range(0, 5):\n",
        "        sign = (-1) ** n\n",
        "        term = (x ** (2 * n)) / factorial(2 * n)\n",
        "        result += sign * term\n",
        "    return result\n",
        "\n",
        "x = math.pi / 4\n",
        "approximation = taylor_cos(x)\n",
        "actual_value = math.cos(x)\n",
        "print(\"COS X=PI/4\" )\n",
        "print(\"Approximation:\", approximation)\n",
        "print(\"Actual value:\", actual_value)\n",
        "print(\"Error:\", abs(approximation - actual_value))"
      ],
      "metadata": {
        "colab": {
          "base_uri": "https://localhost:8080/"
        },
        "id": "x6_wA1CD1vKX",
        "outputId": "ac831271-7d75-470b-956d-f00e134ecac3"
      },
      "execution_count": 23,
      "outputs": [
        {
          "output_type": "stream",
          "name": "stdout",
          "text": [
            "COS X=PI/4\n",
            "Approximation: 0.7071068056832942\n",
            "Actual value: 0.7071067811865476\n",
            "Error: 2.4496746631186284e-08\n"
          ]
        }
      ]
    }
  ]
}
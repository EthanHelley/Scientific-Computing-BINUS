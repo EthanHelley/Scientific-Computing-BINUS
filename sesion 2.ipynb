{
  "nbformat": 4,
  "nbformat_minor": 0,
  "metadata": {
    "colab": {
      "provenance": [],
      "authorship_tag": "ABX9TyMZqQzPH7/S6CXHMJWoAjdv",
      "include_colab_link": true
    },
    "kernelspec": {
      "name": "python3",
      "display_name": "Python 3"
    },
    "language_info": {
      "name": "python"
    }
  },
  "cells": [
    {
      "cell_type": "markdown",
      "metadata": {
        "id": "view-in-github",
        "colab_type": "text"
      },
      "source": [
        "<a href=\"https://colab.research.google.com/github/EthanHelley/Scientific-Computing-BINUS/blob/Materi/sesion%202.ipynb\" target=\"_parent\"><img src=\"https://colab.research.google.com/assets/colab-badge.svg\" alt=\"Open In Colab\"/></a>"
      ]
    },
    {
      "cell_type": "code",
      "execution_count": 1,
      "metadata": {
        "colab": {
          "base_uri": "https://localhost:8080/"
        },
        "id": "e_yd95EQt8vz",
        "outputId": "9ef177be-b47e-446f-9f33-d60bf9642859"
      },
      "outputs": [
        {
          "output_type": "stream",
          "name": "stdout",
          "text": [
            "Matrik is diagonally dominant\n"
          ]
        }
      ],
      "source": [
        "import numpy as np \n",
        "a= [ [8,3,-3], [-2,-8,5], [3,5,10]]\n",
        "\n",
        "diag = np.diag(np.abs(a))\n",
        "\n",
        "off_diag = np.sum(np.abs(a),axis=1) - diag\n",
        "\n",
        "if np.all(diag > off_diag):\n",
        "  print('Matrik is diagonally dominant')\n",
        "else :\n",
        "  print('NOT diagonalyy dominant')"
      ]
    },
    {
      "cell_type": "code",
      "source": [
        "x1=0\n",
        "x2=0\n",
        "x3=0\n",
        "epsilon =0.01\n",
        "converged = False\n",
        "x_old = np.array([x1,x2,x3])"
      ],
      "metadata": {
        "id": "Q1FYTrcLurHM"
      },
      "execution_count": 2,
      "outputs": []
    },
    {
      "cell_type": "code",
      "source": [
        "print('iteration result')\n",
        "print('k,  x1  ,  x2  ,  x3  ')\n",
        "for k in range (1,50):\n",
        "  x1=(14-3*x2+3*x3)/8\n",
        "  x2=(5+2*x1-5*x3)/-8\n",
        "  x3=(-8-3*x1-5*x2)/10\n",
        "  x=np.array([x1,x2,x3])\n",
        "  dx=np.sqrt(np.dot(x-x_old, x-x_old))\n",
        "  print(\"%d,%.4f,%.4f,%.4f\"%(k,x1,x2,x3))\n",
        "  if dx < epsilon:\n",
        "    converged = True\n",
        "    print('Convereged')\n",
        "    break\n",
        "  x_old=x\n",
        "if not converged:\n",
        "    print('Not converged, increase the # value of iteration')"
      ],
      "metadata": {
        "colab": {
          "base_uri": "https://localhost:8080/"
        },
        "id": "hEwn_cR8vLTZ",
        "outputId": "abf91fef-4713-4b0f-96c1-48eb8100d6fb"
      },
      "execution_count": 3,
      "outputs": [
        {
          "output_type": "stream",
          "name": "stdout",
          "text": [
            "iteration result\n",
            "k,  x1  ,  x2  ,  x3  \n",
            "1,1.7500,-1.0625,-0.7937\n",
            "2,1.8508,-1.5838,-0.5633\n",
            "3,2.1327,-1.5103,-0.6847\n",
            "4,2.0596,-1.5678,-0.6340\n",
            "5,2.1002,-1.5463,-0.6569\n",
            "6,2.0835,-1.5565,-0.6468\n",
            "7,2.0911,-1.5520,-0.6513\n",
            "Convereged\n"
          ]
        }
      ]
    },
    {
      "cell_type": "code",
      "source": [
        "import numpy as np\n",
        "A=np.array([[4,3,-5], [-2,-4,5], [8,8,0]])\n",
        "y=np.array([2,5,-3])\n",
        "x=np.linalg.solve(A,y)\n",
        "print(x)"
      ],
      "metadata": {
        "colab": {
          "base_uri": "https://localhost:8080/"
        },
        "id": "N-zeIB0Jws6f",
        "outputId": "b8c2c0d8-3036-4886-ff8a-88d482aaf154"
      },
      "execution_count": 5,
      "outputs": [
        {
          "output_type": "stream",
          "name": "stdout",
          "text": [
            "[ 2.20833333 -2.58333333 -0.18333333]\n"
          ]
        }
      ]
    },
    {
      "cell_type": "code",
      "source": [
        "A_inv=np.linalg.inv(A)\n",
        "x=np.dot(A_inv,y)\n",
        "print(x)"
      ],
      "metadata": {
        "colab": {
          "base_uri": "https://localhost:8080/"
        },
        "id": "aTcE9ahcxQlf",
        "outputId": "6781c839-06f3-4d5c-b630-37fb17ff3659"
      },
      "execution_count": 7,
      "outputs": [
        {
          "output_type": "stream",
          "name": "stdout",
          "text": [
            "[ 2.20833333 -2.58333333 -0.18333333]\n"
          ]
        }
      ]
    },
    {
      "cell_type": "code",
      "source": [
        "import numpy as np\n",
        "from scipy import optimize\n",
        "import matplotlib.pyplot as plt\n",
        "\n",
        "plt.style.use('seaborn-poster')\n",
        "\n",
        "x=np.linspace(0,1,101)\n",
        "y=1+x+x*np.random.random(len(x))\n",
        "\n",
        "A=np.vstack([x,np.ones(len(x))]).T\n",
        "\n",
        "y=y[:, np.newaxis]\n",
        "\n",
        "alpha=np.dot((np.dot(np.linalg.inv(np.dot(A.T,A)),A.T)),y)\n",
        "print(alpha)"
      ],
      "metadata": {
        "colab": {
          "base_uri": "https://localhost:8080/"
        },
        "id": "xXt8G-7Dxc_A",
        "outputId": "ad5db303-7c9e-4801-dbf0-6c9ba85d4f63"
      },
      "execution_count": 12,
      "outputs": [
        {
          "output_type": "stream",
          "name": "stdout",
          "text": [
            "[[1.44919073]\n",
            " [1.01063574]]\n"
          ]
        }
      ]
    },
    {
      "cell_type": "code",
      "source": [
        "plt.figure(figsize = (10,8))\n",
        "plt.plot(x,y,'b.')\n",
        "plt.plot(x,alpha[0]*x + alpha[1],'r')\n",
        "plt.xlabel('x')\n",
        "plt.ylabel('y')\n",
        "plt.show()"
      ],
      "metadata": {
        "colab": {
          "base_uri": "https://localhost:8080/",
          "height": 519
        },
        "id": "m6Ti0XykzqKN",
        "outputId": "66d5db10-95f3-429b-ccb9-7e9428824757"
      },
      "execution_count": 14,
      "outputs": [
        {
          "output_type": "display_data",
          "data": {
            "text/plain": [
              "<Figure size 720x576 with 1 Axes>"
            ],
            "image/png": "[encoded data removed]"
          },
          "metadata": {
            "needs_background": "light"
          }
        }
      ]
    }
  ]
}